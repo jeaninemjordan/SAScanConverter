{
 "cells": [
  {
   "cell_type": "code",
   "execution_count": 104,
   "id": "66db40eb",
   "metadata": {},
   "outputs": [],
   "source": [
    "import pandas as pd\n",
    "import numpy"
   ]
  },
  {
   "cell_type": "code",
   "execution_count": 105,
   "id": "537ab8fa",
   "metadata": {},
   "outputs": [],
   "source": [
    "# Import data\n",
    "filepath= (\"test/SAscan.csv\")"
   ]
  },
  {
   "cell_type": "code",
   "execution_count": 106,
   "id": "c42aa299",
   "metadata": {},
   "outputs": [
    {
     "data": {
      "text/html": [
       "<div>\n",
       "<style scoped>\n",
       "    .dataframe tbody tr th:only-of-type {\n",
       "        vertical-align: middle;\n",
       "    }\n",
       "\n",
       "    .dataframe tbody tr th {\n",
       "        vertical-align: top;\n",
       "    }\n",
       "\n",
       "    .dataframe thead th {\n",
       "        text-align: right;\n",
       "    }\n",
       "</style>\n",
       "<table border=\"1\" class=\"dataframe\">\n",
       "  <thead>\n",
       "    <tr style=\"text-align: right;\">\n",
       "      <th></th>\n",
       "      <th>freq</th>\n",
       "    </tr>\n",
       "  </thead>\n",
       "  <tbody>\n",
       "    <tr>\n",
       "      <th>0</th>\n",
       "      <td>407000000.000;            -99.443</td>\n",
       "    </tr>\n",
       "    <tr>\n",
       "      <th>1</th>\n",
       "      <td>407695502.000;           -109.229</td>\n",
       "    </tr>\n",
       "    <tr>\n",
       "      <th>2</th>\n",
       "      <td>408391003.000;           -110.956</td>\n",
       "    </tr>\n",
       "    <tr>\n",
       "      <th>3</th>\n",
       "      <td>409086505.000;           -109.229</td>\n",
       "    </tr>\n",
       "    <tr>\n",
       "      <th>4</th>\n",
       "      <td>409782007.000;           -107.502</td>\n",
       "    </tr>\n",
       "  </tbody>\n",
       "</table>\n",
       "</div>"
      ],
      "text/plain": [
       "                                  freq\n",
       "0    407000000.000;            -99.443\n",
       "1    407695502.000;           -109.229\n",
       "2    408391003.000;           -110.956\n",
       "3    409086505.000;           -109.229\n",
       "4    409782007.000;           -107.502"
      ]
     },
     "execution_count": 106,
     "metadata": {},
     "output_type": "execute_result"
    }
   ],
   "source": [
    "# Read in data\n",
    "dataframe = pd.read_csv(\"SAscan.csv\", names=[\"freq\"])\n",
    "\n",
    "# Show first 5 rows as test\n",
    "dataframe.head()"
   ]
  },
  {
   "cell_type": "code",
   "execution_count": 107,
   "id": "34c2e32d",
   "metadata": {},
   "outputs": [
    {
     "data": {
      "text/html": [
       "<div>\n",
       "<style scoped>\n",
       "    .dataframe tbody tr th:only-of-type {\n",
       "        vertical-align: middle;\n",
       "    }\n",
       "\n",
       "    .dataframe tbody tr th {\n",
       "        vertical-align: top;\n",
       "    }\n",
       "\n",
       "    .dataframe thead th {\n",
       "        text-align: right;\n",
       "    }\n",
       "</style>\n",
       "<table border=\"1\" class=\"dataframe\">\n",
       "  <thead>\n",
       "    <tr style=\"text-align: right;\">\n",
       "      <th></th>\n",
       "      <th>freq</th>\n",
       "      <th>level</th>\n",
       "    </tr>\n",
       "  </thead>\n",
       "  <tbody>\n",
       "    <tr>\n",
       "      <th>0</th>\n",
       "      <td>407000000.000</td>\n",
       "      <td>-99.443</td>\n",
       "    </tr>\n",
       "    <tr>\n",
       "      <th>1</th>\n",
       "      <td>407695502.000</td>\n",
       "      <td>-109.229</td>\n",
       "    </tr>\n",
       "    <tr>\n",
       "      <th>2</th>\n",
       "      <td>408391003.000</td>\n",
       "      <td>-110.956</td>\n",
       "    </tr>\n",
       "    <tr>\n",
       "      <th>3</th>\n",
       "      <td>409086505.000</td>\n",
       "      <td>-109.229</td>\n",
       "    </tr>\n",
       "    <tr>\n",
       "      <th>4</th>\n",
       "      <td>409782007.000</td>\n",
       "      <td>-107.502</td>\n",
       "    </tr>\n",
       "  </tbody>\n",
       "</table>\n",
       "</div>"
      ],
      "text/plain": [
       "              freq                level\n",
       "0    407000000.000              -99.443\n",
       "1    407695502.000             -109.229\n",
       "2    408391003.000             -110.956\n",
       "3    409086505.000             -109.229\n",
       "4    409782007.000             -107.502"
      ]
     },
     "execution_count": 107,
     "metadata": {},
     "output_type": "execute_result"
    }
   ],
   "source": [
    "# Split data using ; as delimiter\n",
    "dataframe=dataframe[\"freq\"].str.split(\";\", expand=True)\n",
    "\n",
    "# Name headers\n",
    "dataframe.rename(columns={0:\"freq\", 1: \"level\"}, inplace=True)\n",
    "\n",
    "# Show dataframe\n",
    "dataframe.head()"
   ]
  },
  {
   "cell_type": "code",
   "execution_count": 108,
   "id": "ebc62d08",
   "metadata": {},
   "outputs": [
    {
     "data": {
      "text/html": [
       "<div>\n",
       "<style scoped>\n",
       "    .dataframe tbody tr th:only-of-type {\n",
       "        vertical-align: middle;\n",
       "    }\n",
       "\n",
       "    .dataframe tbody tr th {\n",
       "        vertical-align: top;\n",
       "    }\n",
       "\n",
       "    .dataframe thead th {\n",
       "        text-align: right;\n",
       "    }\n",
       "</style>\n",
       "<table border=\"1\" class=\"dataframe\">\n",
       "  <thead>\n",
       "    <tr style=\"text-align: right;\">\n",
       "      <th></th>\n",
       "      <th>freq</th>\n",
       "      <th>level</th>\n",
       "    </tr>\n",
       "  </thead>\n",
       "  <tbody>\n",
       "    <tr>\n",
       "      <th>0</th>\n",
       "      <td>407.000000</td>\n",
       "      <td>-99.443</td>\n",
       "    </tr>\n",
       "    <tr>\n",
       "      <th>1</th>\n",
       "      <td>407.695502</td>\n",
       "      <td>-109.229</td>\n",
       "    </tr>\n",
       "    <tr>\n",
       "      <th>2</th>\n",
       "      <td>408.391003</td>\n",
       "      <td>-110.956</td>\n",
       "    </tr>\n",
       "    <tr>\n",
       "      <th>3</th>\n",
       "      <td>409.086505</td>\n",
       "      <td>-109.229</td>\n",
       "    </tr>\n",
       "    <tr>\n",
       "      <th>4</th>\n",
       "      <td>409.782007</td>\n",
       "      <td>-107.502</td>\n",
       "    </tr>\n",
       "  </tbody>\n",
       "</table>\n",
       "</div>"
      ],
      "text/plain": [
       "         freq    level\n",
       "0  407.000000  -99.443\n",
       "1  407.695502 -109.229\n",
       "2  408.391003 -110.956\n",
       "3  409.086505 -109.229\n",
       "4  409.782007 -107.502"
      ]
     },
     "execution_count": 108,
     "metadata": {},
     "output_type": "execute_result"
    }
   ],
   "source": [
    "# Convert freq column to double/float variable type\n",
    "dataframe[\"freq\"] = pd.to_numeric(dataframe[\"freq\"])\n",
    "dataframe[\"level\"] = pd.to_numeric(dataframe[\"level\"])\n",
    "\n",
    "dataframe=dataframe.astype(float)\n",
    "\n",
    "#Divide Freq column\n",
    "dataframe[\"freq\"]=dataframe[\"freq\"]/1000000\n",
    "\n",
    "# Show dataframe\n",
    "dataframe.head()"
   ]
  },
  {
   "cell_type": "code",
   "execution_count": 109,
   "id": "89555c5b",
   "metadata": {},
   "outputs": [
    {
     "data": {
      "text/html": [
       "<div>\n",
       "<style scoped>\n",
       "    .dataframe tbody tr th:only-of-type {\n",
       "        vertical-align: middle;\n",
       "    }\n",
       "\n",
       "    .dataframe tbody tr th {\n",
       "        vertical-align: top;\n",
       "    }\n",
       "\n",
       "    .dataframe thead th {\n",
       "        text-align: right;\n",
       "    }\n",
       "</style>\n",
       "<table border=\"1\" class=\"dataframe\">\n",
       "  <thead>\n",
       "    <tr style=\"text-align: right;\">\n",
       "      <th></th>\n",
       "      <th>freq</th>\n",
       "      <th>level</th>\n",
       "    </tr>\n",
       "  </thead>\n",
       "  <tbody>\n",
       "    <tr>\n",
       "      <th>0</th>\n",
       "      <td>407.000</td>\n",
       "      <td>-99.44</td>\n",
       "    </tr>\n",
       "    <tr>\n",
       "      <th>1</th>\n",
       "      <td>407.696</td>\n",
       "      <td>-109.23</td>\n",
       "    </tr>\n",
       "    <tr>\n",
       "      <th>2</th>\n",
       "      <td>408.391</td>\n",
       "      <td>-110.96</td>\n",
       "    </tr>\n",
       "    <tr>\n",
       "      <th>3</th>\n",
       "      <td>409.087</td>\n",
       "      <td>-109.23</td>\n",
       "    </tr>\n",
       "    <tr>\n",
       "      <th>4</th>\n",
       "      <td>409.782</td>\n",
       "      <td>-107.50</td>\n",
       "    </tr>\n",
       "  </tbody>\n",
       "</table>\n",
       "</div>"
      ],
      "text/plain": [
       "      freq   level\n",
       "0  407.000  -99.44\n",
       "1  407.696 -109.23\n",
       "2  408.391 -110.96\n",
       "3  409.087 -109.23\n",
       "4  409.782 -107.50"
      ]
     },
     "execution_count": 109,
     "metadata": {},
     "output_type": "execute_result"
    }
   ],
   "source": [
    "# Round Freq and Level columns to respective decimal places\n",
    "roundfreq= dataframe['freq'] = dataframe['freq'].round(3)\n",
    "roundlevel= dataframe['level'] = dataframe['level'].round(2)\n",
    "\n",
    "# concatenate dataframes\n",
    "Updated_SAscan = pd.concat([roundfreq, roundlevel], axis= 1)\n",
    "Updated_SAscan.head()\n"
   ]
  },
  {
   "cell_type": "code",
   "execution_count": 110,
   "id": "678775de",
   "metadata": {},
   "outputs": [],
   "source": [
    "Updated_SAscan.to_csv('./newfile/Updated_SAscan.csv', index=False)"
   ]
  },
  {
   "cell_type": "code",
   "execution_count": null,
   "id": "ab79a33d",
   "metadata": {},
   "outputs": [],
   "source": []
  },
  {
   "cell_type": "code",
   "execution_count": null,
   "id": "0314b029",
   "metadata": {},
   "outputs": [],
   "source": [
    "\n"
   ]
  },
  {
   "cell_type": "code",
   "execution_count": null,
   "id": "2b8d0a49",
   "metadata": {},
   "outputs": [],
   "source": []
  },
  {
   "cell_type": "code",
   "execution_count": null,
   "id": "d4d0050d",
   "metadata": {},
   "outputs": [],
   "source": []
  },
  {
   "cell_type": "code",
   "execution_count": null,
   "id": "2d63246b",
   "metadata": {},
   "outputs": [],
   "source": []
  }
 ],
 "metadata": {
  "kernelspec": {
   "display_name": "Python 3 (ipykernel)",
   "language": "python",
   "name": "python3"
  },
  "language_info": {
   "codemirror_mode": {
    "name": "ipython",
    "version": 3
   },
   "file_extension": ".py",
   "mimetype": "text/x-python",
   "name": "python",
   "nbconvert_exporter": "python",
   "pygments_lexer": "ipython3",
   "version": "3.7.13"
  }
 },
 "nbformat": 4,
 "nbformat_minor": 5
}
