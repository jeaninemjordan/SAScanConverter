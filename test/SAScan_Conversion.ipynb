{
 "cells": [
  {
   "cell_type": "code",
   "execution_count": 8,
   "id": "66db40eb",
   "metadata": {},
   "outputs": [],
   "source": [
    "import pandas as pd\n",
    "import numpy"
   ]
  },
  {
   "cell_type": "code",
   "execution_count": 9,
   "id": "537ab8fa",
   "metadata": {},
   "outputs": [],
   "source": [
    "# Import data\n",
    "filepath= (\"test/SAscan.csv\")"
   ]
  },
  {
   "cell_type": "code",
   "execution_count": 10,
   "id": "c42aa299",
   "metadata": {},
   "outputs": [],
   "source": [
    "# Read in data\n",
    "dataframe = pd.read_csv(\"SAscan.csv\", names=[\"freq\"])"
   ]
  },
  {
   "cell_type": "code",
   "execution_count": 11,
   "id": "34c2e32d",
   "metadata": {},
   "outputs": [],
   "source": [
    "# Split data using ; as delimiter\n",
    "dataframe=dataframe[\"freq\"].str.split(\";\", expand=True)\n",
    "\n",
    "# Name headers\n",
    "dataframe.rename(columns={0:\"freq\", 1: \"level\"}, inplace=True)"
   ]
  },
  {
   "cell_type": "code",
   "execution_count": 12,
   "id": "ebc62d08",
   "metadata": {},
   "outputs": [],
   "source": [
    "# Convert freq column to double/float variable type\n",
    "dataframe[\"freq\"] = pd.to_numeric(dataframe[\"freq\"])\n",
    "dataframe[\"level\"] = pd.to_numeric(dataframe[\"level\"])\n",
    "\n",
    "dataframe=dataframe.astype(float)\n",
    "\n",
    "#Divide Freq column\n",
    "dataframe[\"freq\"]=dataframe[\"freq\"]/1000000"
   ]
  },
  {
   "cell_type": "code",
   "execution_count": 13,
   "id": "89555c5b",
   "metadata": {},
   "outputs": [],
   "source": [
    "# Round Freq and Level columns to respective decimal places\n",
    "roundfreq= dataframe['freq'] = dataframe['freq'].round(3)\n",
    "roundlevel= dataframe['level'] = dataframe['level'].round(2)\n",
    "\n",
    "# concatenate dataframes\n",
    "Updated_SAscan = pd.concat([roundfreq, roundlevel], axis= 1)"
   ]
  },
  {
   "cell_type": "code",
   "execution_count": 14,
   "id": "678775de",
   "metadata": {},
   "outputs": [],
   "source": [
    "Updated_SAscan.to_csv('./newfile/Updated_SAscan.csv', index=False)"
   ]
  },
  {
   "cell_type": "code",
   "execution_count": null,
   "id": "ab79a33d",
   "metadata": {},
   "outputs": [],
   "source": []
  },
  {
   "cell_type": "code",
   "execution_count": null,
   "id": "0314b029",
   "metadata": {},
   "outputs": [],
   "source": [
    "\n"
   ]
  },
  {
   "cell_type": "code",
   "execution_count": null,
   "id": "2b8d0a49",
   "metadata": {},
   "outputs": [],
   "source": []
  },
  {
   "cell_type": "code",
   "execution_count": null,
   "id": "d4d0050d",
   "metadata": {},
   "outputs": [],
   "source": []
  },
  {
   "cell_type": "code",
   "execution_count": null,
   "id": "2d63246b",
   "metadata": {},
   "outputs": [],
   "source": []
  }
 ],
 "metadata": {
  "kernelspec": {
   "display_name": "Python 3 (ipykernel)",
   "language": "python",
   "name": "python3"
  },
  "language_info": {
   "codemirror_mode": {
    "name": "ipython",
    "version": 3
   },
   "file_extension": ".py",
   "mimetype": "text/x-python",
   "name": "python",
   "nbconvert_exporter": "python",
   "pygments_lexer": "ipython3",
   "version": "3.7.13"
  }
 },
 "nbformat": 4,
 "nbformat_minor": 5
}
