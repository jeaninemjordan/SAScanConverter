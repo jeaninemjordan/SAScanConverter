{
 "cells": [
  {
   "cell_type": "code",
   "execution_count": 9,
   "id": "f192e5a6",
   "metadata": {},
   "outputs": [],
   "source": [
    "import pandas as pd\n",
    "import numpy"
   ]
  },
  {
   "cell_type": "code",
   "execution_count": 17,
   "id": "178759f9",
   "metadata": {},
   "outputs": [],
   "source": [
    "# Import data\n",
    "filepath= (\"test/SAscan.csv\")"
   ]
  },
  {
   "cell_type": "code",
   "execution_count": 24,
   "id": "71eff480",
   "metadata": {},
   "outputs": [
    {
     "data": {
      "text/html": [
       "<div>\n",
       "<style scoped>\n",
       "    .dataframe tbody tr th:only-of-type {\n",
       "        vertical-align: middle;\n",
       "    }\n",
       "\n",
       "    .dataframe tbody tr th {\n",
       "        vertical-align: top;\n",
       "    }\n",
       "\n",
       "    .dataframe thead th {\n",
       "        text-align: right;\n",
       "    }\n",
       "</style>\n",
       "<table border=\"1\" class=\"dataframe\">\n",
       "  <thead>\n",
       "    <tr style=\"text-align: right;\">\n",
       "      <th></th>\n",
       "      <th>freq</th>\n",
       "    </tr>\n",
       "  </thead>\n",
       "  <tbody>\n",
       "    <tr>\n",
       "      <th>0</th>\n",
       "      <td>407000000.000;            -99.443</td>\n",
       "    </tr>\n",
       "    <tr>\n",
       "      <th>1</th>\n",
       "      <td>407695502.000;           -109.229</td>\n",
       "    </tr>\n",
       "    <tr>\n",
       "      <th>2</th>\n",
       "      <td>408391003.000;           -110.956</td>\n",
       "    </tr>\n",
       "    <tr>\n",
       "      <th>3</th>\n",
       "      <td>409086505.000;           -109.229</td>\n",
       "    </tr>\n",
       "    <tr>\n",
       "      <th>4</th>\n",
       "      <td>409782007.000;           -107.502</td>\n",
       "    </tr>\n",
       "  </tbody>\n",
       "</table>\n",
       "</div>"
      ],
      "text/plain": [
       "                                  freq\n",
       "0    407000000.000;            -99.443\n",
       "1    407695502.000;           -109.229\n",
       "2    408391003.000;           -110.956\n",
       "3    409086505.000;           -109.229\n",
       "4    409782007.000;           -107.502"
      ]
     },
     "execution_count": 24,
     "metadata": {},
     "output_type": "execute_result"
    }
   ],
   "source": [
    "# Read in data\n",
    "dataframe = pd.read_csv(\"SAscan.csv\", names=[\"freq\"])\n",
    "\n",
    "# Show first 5 rows as test\n",
    "dataframe.head()"
   ]
  },
  {
   "cell_type": "code",
   "execution_count": 30,
   "id": "51987dba",
   "metadata": {},
   "outputs": [
    {
     "data": {
      "text/plain": [
       "0      [  407000000.000]\n",
       "1      [  407695502.000]\n",
       "2      [  408391003.000]\n",
       "3      [  409086505.000]\n",
       "4      [  409782007.000]\n",
       "             ...        \n",
       "285    [  605217993.000]\n",
       "286    [  605913495.000]\n",
       "287    [  606608997.000]\n",
       "288    [  607304498.000]\n",
       "289    [  608000000.000]\n",
       "Name: freq, Length: 290, dtype: object"
      ]
     },
     "execution_count": 30,
     "metadata": {},
     "output_type": "execute_result"
    }
   ],
   "source": [
    "# Split data using ; as delimiter\n",
    "dataframe[\"freq\"].str.split(\";\")"
   ]
  },
  {
   "cell_type": "code",
   "execution_count": 31,
   "id": "8961c361",
   "metadata": {},
   "outputs": [
    {
     "data": {
      "text/html": [
       "<div>\n",
       "<style scoped>\n",
       "    .dataframe tbody tr th:only-of-type {\n",
       "        vertical-align: middle;\n",
       "    }\n",
       "\n",
       "    .dataframe tbody tr th {\n",
       "        vertical-align: top;\n",
       "    }\n",
       "\n",
       "    .dataframe thead th {\n",
       "        text-align: right;\n",
       "    }\n",
       "</style>\n",
       "<table border=\"1\" class=\"dataframe\">\n",
       "  <thead>\n",
       "    <tr style=\"text-align: right;\">\n",
       "      <th></th>\n",
       "      <th>freq</th>\n",
       "      <th>level</th>\n",
       "    </tr>\n",
       "  </thead>\n",
       "  <tbody>\n",
       "    <tr>\n",
       "      <th>0</th>\n",
       "      <td>407000000.000</td>\n",
       "      <td>-99.443</td>\n",
       "    </tr>\n",
       "    <tr>\n",
       "      <th>1</th>\n",
       "      <td>407695502.000</td>\n",
       "      <td>-109.229</td>\n",
       "    </tr>\n",
       "    <tr>\n",
       "      <th>2</th>\n",
       "      <td>408391003.000</td>\n",
       "      <td>-110.956</td>\n",
       "    </tr>\n",
       "    <tr>\n",
       "      <th>3</th>\n",
       "      <td>409086505.000</td>\n",
       "      <td>-109.229</td>\n",
       "    </tr>\n",
       "    <tr>\n",
       "      <th>4</th>\n",
       "      <td>409782007.000</td>\n",
       "      <td>-107.502</td>\n",
       "    </tr>\n",
       "  </tbody>\n",
       "</table>\n",
       "</div>"
      ],
      "text/plain": [
       "              freq                level\n",
       "0    407000000.000              -99.443\n",
       "1    407695502.000             -109.229\n",
       "2    408391003.000             -110.956\n",
       "3    409086505.000             -109.229\n",
       "4    409782007.000             -107.502"
      ]
     },
     "execution_count": 31,
     "metadata": {},
     "output_type": "execute_result"
    }
   ],
   "source": [
    "# Show dataframe\n",
    "dataframe.head()"
   ]
  },
  {
   "cell_type": "code",
   "execution_count": null,
   "id": "0e514914",
   "metadata": {},
   "outputs": [],
   "source": [
    "dataframe[\"freq\"]=dataframe[\"freq\"]/10000000"
   ]
  },
  {
   "cell_type": "code",
   "execution_count": null,
   "id": "92f9e326",
   "metadata": {},
   "outputs": [],
   "source": [
    "dataframe.head()"
   ]
  },
  {
   "cell_type": "code",
   "execution_count": null,
   "id": "c8296834",
   "metadata": {},
   "outputs": [],
   "source": []
  }
 ],
 "metadata": {
  "kernelspec": {
   "display_name": "Python 3 (ipykernel)",
   "language": "python",
   "name": "python3"
  },
  "language_info": {
   "codemirror_mode": {
    "name": "ipython",
    "version": 3
   },
   "file_extension": ".py",
   "mimetype": "text/x-python",
   "name": "python",
   "nbconvert_exporter": "python",
   "pygments_lexer": "ipython3",
   "version": "3.7.13"
  }
 },
 "nbformat": 4,
 "nbformat_minor": 5
}
